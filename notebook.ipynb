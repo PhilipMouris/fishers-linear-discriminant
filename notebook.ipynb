{
  "nbformat": 4,
  "nbformat_minor": 0,
  "metadata": {
    "kernelspec": {
      "display_name": "Python 3",
      "language": "python",
      "name": "python3"
    },
    "language_info": {
      "codemirror_mode": {
        "name": "ipython",
        "version": 3
      },
      "file_extension": ".py",
      "mimetype": "text/x-python",
      "name": "python",
      "nbconvert_exporter": "python",
      "pygments_lexer": "ipython3",
      "version": "3.6.10"
    },
    "colab": {
      "name": "Assignment_1.ipynb",
      "provenance": [],
      "collapsed_sections": [],
      "toc_visible": true
    }
  },
  "cells": [
    {
      "cell_type": "markdown",
      "metadata": {
        "id": "Z9hTB3wBzDjm"
      },
      "source": [
        "## Imports"
      ]
    },
    {
      "cell_type": "code",
      "metadata": {
        "id": "eoqnewg9zDjm"
      },
      "source": [
        "import numpy as np\n",
        "import matplotlib.pyplot as plt"
      ],
      "execution_count": 2,
      "outputs": []
    },
    {
      "cell_type": "markdown",
      "metadata": {
        "id": "ymywXNIqzDjq"
      },
      "source": [
        "## Read Data"
      ]
    },
    {
      "cell_type": "code",
      "metadata": {
        "id": "b-Sbw-KjzDjr",
        "colab": {
          "base_uri": "https://localhost:8080/"
        },
        "outputId": "08708476-c7e4-465a-f5ec-b085475a2aa2"
      },
      "source": [
        "# Read Training Images, Testing Images, Training Labels, Testing Labels\n",
        "# Use Assignment 0 for reference.\n",
        "train = np.array([plt.imread('Data/Train/'+str(i)+'.jpg').reshape(-1) for i in range(1, 2401)])\n",
        "test = np.array([plt.imread('Data/Test/'+str(i)+'.jpg').reshape(-1) for i in range(1, 201)])\n",
        "train_labels = np.loadtxt('Data/Train/Training Labels.txt')\n",
        "test_labels = np.loadtxt('Data/Test/Test Labels.txt')\n",
        "print(train.shape, test.shape)\n",
        "print(train_labels.shape,test_labels.shape)"
      ],
      "execution_count": 3,
      "outputs": [
        {
          "output_type": "stream",
          "text": [
            "(2400, 784) (200, 784)\n",
            "(2400,) (200,)\n"
          ],
          "name": "stdout"
        }
      ]
    },
    {
      "cell_type": "markdown",
      "metadata": {
        "id": "6hCgQkydzDju"
      },
      "source": [
        "## Compute weight vectors"
      ]
    },
    {
      "cell_type": "code",
      "metadata": {
        "id": "WjnH09qizDju"
      },
      "source": [
        "def mean(matrix):\n",
        "  number_of_rows = matrix.shape[0]\n",
        "  sum = np.sum(matrix, axis = 0)\n",
        "  return sum/number_of_rows\n",
        "\n",
        "def scatter_matrix(matrix_a, matrix_b):\n",
        "  m1, m2 = mean(matrix_a), mean(matrix_b)\n",
        "  s1, s2 = 0, 0\n",
        "  for i in range(0, matrix_a.shape[0]):\n",
        "    s1 += (matrix_a[i] - m1).reshape(np.array([matrix_a[i] - m1]).shape[1], np.array([matrix_a[i] - m1]).shape[0]) @ (matrix_a[i] - m1).reshape(np.array([matrix_a[i] - m1]).shape[0], np.array([matrix_a[i] - m1]).shape[1])\n",
        "  for i in range(0, matrix_b.shape[0]):\n",
        "    s2 += (matrix_b[i] - m2).reshape(np.array([matrix_b[i] - m2]).shape[1], np.array([matrix_b[i] - m2]).shape[0]) @ (matrix_b[i] - m2).reshape(np.array([matrix_b[i] - m2]).shape[0], np.array([matrix_b[i] - m2]).shape[1])\n",
        "  return s1 + s2\n",
        "\n",
        "def weight_vector(matrix_a, matrix_b):\n",
        "  inverse_scatter_matrix = np.linalg.pinv(scatter_matrix(matrix_a, matrix_b))\n",
        "  m1, m2 = mean(matrix_a), mean(matrix_b)\n",
        "  return inverse_scatter_matrix @ (m1 - m2).reshape(np.array([m1 - m2]).shape[1], np.array([m1 - m2]).shape[0])\n",
        "\n",
        "Ws = weight_vector(train[0:240], train[240:])\n",
        "for i in range(1, 10):\n",
        "  Ws = np.concatenate((Ws, weight_vector(train[i*240:(i+1)*240], np.concatenate((train[0:i*240], train[(i+1)*240:])))), axis = 1)\n"
      ],
      "execution_count": 4,
      "outputs": []
    },
    {
      "cell_type": "markdown",
      "metadata": {
        "id": "N4syvx50zDjx"
      },
      "source": [
        "## Compute confusion matrix"
      ]
    },
    {
      "cell_type": "code",
      "metadata": {
        "id": "CdpKakjKzDjx"
      },
      "source": [
        "# Please return a variable named confusion_matrix so the next cell would work.\n",
        "results = test @ Ws\n",
        "predictions = np.argmax(results, axis=1)\n",
        "confusion_matrix = np.zeros((10, 10))\n",
        "for i in range(0, len(predictions)):\n",
        "  confusion_matrix[int(test_labels[i]), int(predictions[i])] += 1"
      ],
      "execution_count": 5,
      "outputs": []
    },
    {
      "cell_type": "markdown",
      "metadata": {
        "id": "umn6GF4-zDj0"
      },
      "source": [
        "## Plot confusion matrix and print accuracy"
      ]
    },
    {
      "cell_type": "code",
      "metadata": {
        "id": "XixQ8h48zDj0",
        "colab": {
          "base_uri": "https://localhost:8080/",
          "height": 626
        },
        "outputId": "0fcdb061-a766-4c8f-870f-3d54a43633a4"
      },
      "source": [
        "# Plot Confusion Matrix\n",
        "plt.rc('figure', figsize=[20,10])\n",
        "plt.matshow(confusion_matrix,cmap='Blues')\n",
        "for i in range(0,confusion_matrix.shape[0]):\n",
        "    for j in range(0,confusion_matrix.shape[1]):\n",
        "        plt.annotate(confusion_matrix[i,j],(j,i))\n",
        "\n",
        "# Calculate Accuracy\n",
        "print(\"Overall accuracy: \",(np.sum(np.diag(confusion_matrix)))/test.shape[0])"
      ],
      "execution_count": 6,
      "outputs": [
        {
          "output_type": "stream",
          "text": [
            "Overall accuracy:  0.77\n"
          ],
          "name": "stdout"
        },
        {
          "output_type": "display_data",
          "data": {
            "image/png": "[encoded data removed]",
            "text/plain": [
              "<Figure size 720x720 with 1 Axes>"
            ]
          },
          "metadata": {
            "tags": [],
            "needs_background": "light"
          }
        }
      ]
    },
    {
      "cell_type": "markdown",
      "metadata": {
        "id": "fyPe7dHazDj2"
      },
      "source": [
        "## Compute bias node for each classifier"
      ]
    },
    {
      "cell_type": "code",
      "metadata": {
        "id": "auH3U8CVzDj3"
      },
      "source": [
        "def get_bias_node(w, matrix_a, matrix_b):\n",
        "  midway = (mean(matrix_a) + mean(matrix_b))/2\n",
        "  return -1*(w.T @ midway)\n",
        "\n",
        "bias_nodes = []\n",
        "for i in range(0, 10):\n",
        "  bias_nodes.append(get_bias_node(Ws[:, i], train[i*240:(i+1)*240], np.concatenate((train[0:i*240], train[(i+1)*240:]))))"
      ],
      "execution_count": 7,
      "outputs": []
    },
    {
      "cell_type": "markdown",
      "metadata": {
        "id": "rFwKUwqUzDj5"
      },
      "source": [
        "## Compute confusion matrix"
      ]
    },
    {
      "cell_type": "code",
      "metadata": {
        "id": "lUOnB9BZzDj6"
      },
      "source": [
        "# Please return a variable named confusion_matrix so the next cell would work.\n",
        "results_bias = (test @ Ws) + np.repeat([bias_nodes], repeats=[200], axis=0)\n",
        "predictions_bias = np.argmax(results_bias, axis=1)\n",
        "confusion_matrix = np.zeros((10, 10))\n",
        "for i in range(0, len(predictions_bias)):\n",
        "  confusion_matrix[int(test_labels[i]), int(predictions_bias[i])] += 1"
      ],
      "execution_count": 8,
      "outputs": []
    },
    {
      "cell_type": "markdown",
      "metadata": {
        "id": "kbP32FphzDj8"
      },
      "source": [
        "## Plot confusion matrix and print accuracy"
      ]
    },
    {
      "cell_type": "code",
      "metadata": {
        "id": "eYr3UFv3zDj8",
        "colab": {
          "base_uri": "https://localhost:8080/",
          "height": 626
        },
        "outputId": "1e7c4fe2-779b-43be-b79a-99e14ef932c3"
      },
      "source": [
        "# Plot Confusion Matrix\n",
        "plt.rc('figure', figsize=[20,10])\n",
        "plt.matshow(confusion_matrix,cmap='Blues')\n",
        "for i in range(0,confusion_matrix.shape[0]):\n",
        "    for j in range(0,confusion_matrix.shape[1]):\n",
        "        plt.annotate(confusion_matrix[i,j],(j,i))\n",
        "        \n",
        "# Calculate Accuracy\n",
        "print(\"Overall accuracy: \",(np.sum(np.diag(confusion_matrix)))/test.shape[0])"
      ],
      "execution_count": 9,
      "outputs": [
        {
          "output_type": "stream",
          "text": [
            "Overall accuracy:  0.805\n"
          ],
          "name": "stdout"
        },
        {
          "output_type": "display_data",
          "data": {
            "image/png": "[encoded data removed]",
            "text/plain": [
              "<Figure size 720x720 with 1 Axes>"
            ]
          },
          "metadata": {
            "tags": [],
            "needs_background": "light"
          }
        }
      ]
    }
  ]
}
